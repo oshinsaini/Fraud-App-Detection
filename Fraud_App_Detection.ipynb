{
 "cells": [
  {
   "cell_type": "code",
   "execution_count": 13,
   "metadata": {},
   "outputs": [],
   "source": [
    "from google_play_scraper import app\n",
    "#print(result)\n",
    "file = open(\"cc.txt\", \"w\", encoding='utf-8')\n",
    "link=\"https://play.google.com/store/apps/details?id=in.amazon.mShop.android.shopping\"\n",
    "findId=link.find('id=')\n",
    "\n",
    "url=link[findId+3:]\n",
    "file.write(str(app(\n",
    "    url,\n",
    "    lang='en', #defaults to 'en'\n",
    "    country='us' #defaults to 'us'\n",
    ")))\n",
    "file.close()"
   ]
  },
  {
   "cell_type": "code",
   "execution_count": 14,
   "metadata": {},
   "outputs": [
    {
     "name": "stdout",
     "output_type": "stream",
     "text": [
      "Requirement already satisfied: google-play-scraper in ./opt/anaconda3/lib/python3.8/site-packages (0.1.2)\n",
      "Note: you may need to restart the kernel to use updated packages.\n"
     ]
    }
   ],
   "source": [
    "pip install google-play-scraper"
   ]
  },
  {
   "cell_type": "code",
   "execution_count": 15,
   "metadata": {},
   "outputs": [
    {
     "name": "stdout",
     "output_type": "stream",
     "text": [
      "Enter your link: https://play.google.com/store/apps/details?id=com.canva.editor\n"
     ]
    }
   ],
   "source": [
    "from google_play_scraper import app\n",
    "#print(result)\n",
    "file = open(\"cc.txt\", \"w\", encoding='utf-8')\n",
    "link = input(\"Enter your link: \") \n",
    "findId=link.find('id=')\n",
    "\n",
    "url=link[findId+3:]\n",
    "file.write(str(app(\n",
    "    url,\n",
    "    lang='en', #defaults to 'en'\n",
    "    country='us' #defaults to 'us'\n",
    ")))\n",
    "file.close()\n"
   ]
  },
  {
   "cell_type": "code",
   "execution_count": 16,
   "metadata": {},
   "outputs": [],
   "source": [
    "myfile=[]\n",
    "with open(\"cc.txt\",encoding='utf-8') as mydata:\n",
    "    for data in mydata:\n",
    "        myfile.append(data)"
   ]
  },
  {
   "cell_type": "code",
   "execution_count": 17,
   "metadata": {},
   "outputs": [],
   "source": [
    "start=myfile[0].find('comments')\n",
    "end=myfile[0].find('editorsChoice')\n",
    "\n",
    "c=data[start:end]"
   ]
  },
  {
   "cell_type": "code",
   "execution_count": 18,
   "metadata": {},
   "outputs": [],
   "source": [
    "import re\n",
    "\n",
    "cleandata = re.sub('[^A-Za-z0-9]+',' ',c)\n",
    "\n",
    "low=cleandata.lower()"
   ]
  },
  {
   "cell_type": "code",
   "execution_count": 19,
   "metadata": {},
   "outputs": [],
   "source": [
    "import nltk"
   ]
  },
  {
   "cell_type": "code",
   "execution_count": 20,
   "metadata": {},
   "outputs": [],
   "source": [
    "import nltk\n",
    "from nltk.corpus import stopwords\n",
    "from nltk.tokenize import word_tokenize\n",
    "\n",
    "stop=set(stopwords.words('english'))\n",
    "wordstoken=word_tokenize(low)\n",
    "\n",
    "sentences=[w for w in wordstoken if not w in stop]\n",
    "sentences=[]\n",
    "\n",
    "for w in wordstoken:\n",
    "    if w not in stop:\n",
    "        sentences.append(w)"
   ]
  },
  {
   "cell_type": "code",
   "execution_count": 21,
   "metadata": {},
   "outputs": [
    {
     "data": {
      "text/plain": [
       "1439"
      ]
     },
     "execution_count": 21,
     "metadata": {},
     "output_type": "execute_result"
    }
   ],
   "source": [
    "len(sentences)"
   ]
  },
  {
   "cell_type": "code",
   "execution_count": 22,
   "metadata": {},
   "outputs": [
    {
     "name": "stdout",
     "output_type": "stream",
     "text": [
      "0.03683113273106324\n"
     ]
    }
   ],
   "source": [
    "total=0\n",
    "tot=0\n",
    "positive = open(\"desktop/positive-words.txt\", \"r\", encoding='utf-8')\n",
    "negative = open(\"desktop/negative-words.txt\", \"r\", encoding='utf-8')\n",
    "pos=positive.read().split()\n",
    "neg=negative.read().split()\n",
    "for word in sentences: \n",
    "    tot=tot+1\n",
    "    if word in pos:\n",
    "        total=total+1\n",
    "        \n",
    "    if word in neg:\n",
    "        total=total-1\n",
    "        \n",
    "print(total/tot)\n"
   ]
  },
  {
   "cell_type": "code",
   "execution_count": null,
   "metadata": {},
   "outputs": [],
   "source": []
  }
 ],
 "metadata": {
  "kernelspec": {
   "display_name": "Python 3",
   "language": "python",
   "name": "python3"
  },
  "language_info": {
   "codemirror_mode": {
    "name": "ipython",
    "version": 3
   },
   "file_extension": ".py",
   "mimetype": "text/x-python",
   "name": "python",
   "nbconvert_exporter": "python",
   "pygments_lexer": "ipython3",
   "version": "3.8.5"
  }
 },
 "nbformat": 4,
 "nbformat_minor": 4
}
